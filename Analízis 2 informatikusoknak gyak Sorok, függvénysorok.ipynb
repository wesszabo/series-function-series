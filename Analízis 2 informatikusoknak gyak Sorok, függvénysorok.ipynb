{
 "cells": [
  {
   "cell_type": "markdown",
   "metadata": {
    "toc": "true"
   },
   "source": [
    "# Table of Contents\n",
    " <p><div class=\"lev1 toc-item\"><a href=\"#Numerikus-sorok\" data-toc-modified-id=\"Numerikus-sorok-1\"><span class=\"toc-item-num\">1&nbsp;&nbsp;</span>Numerikus sorok</a></div><div class=\"lev2 toc-item\"><a href=\"#Konvergencia,-divergencia-kritériumok\" data-toc-modified-id=\"Konvergencia,-divergencia-kritériumok-11\"><span class=\"toc-item-num\">1.1&nbsp;&nbsp;</span>Konvergencia, divergencia kritériumok</a></div><div class=\"lev1 toc-item\"><a href=\"#Függvénysorozatok,-függvénysorok\" data-toc-modified-id=\"Függvénysorozatok,-függvénysorok-2\"><span class=\"toc-item-num\">2&nbsp;&nbsp;</span>Függvénysorozatok, függvénysorok</a></div><div class=\"lev2 toc-item\"><a href=\"#Hatványsorok\" data-toc-modified-id=\"Hatványsorok-21\"><span class=\"toc-item-num\">2.1&nbsp;&nbsp;</span>Hatványsorok</a></div>"
   ]
  },
  {
   "cell_type": "markdown",
   "metadata": {},
   "source": [
    "<p style=\"text-align: center; font-family: 'Times New Roman'; font-size:3em; font-style:bold\">\n",
    "Analízis 2 informatikusoknak</p><br>\n",
    "<p style=\"text-align: center; font-family: 'Times New Roman'; font-size:1.5em; font-style:bold\">(gyakorlat)</p><br>"
   ]
  },
  {
   "cell_type": "markdown",
   "metadata": {
    "hide_input": true
   },
   "source": [
    "# Numerikus sorok"
   ]
  },
  {
   "cell_type": "code",
   "execution_count": 2,
   "metadata": {
    "collapsed": true,
    "scrolled": true
   },
   "outputs": [],
   "source": [
    "from sympy import *\n",
    "%matplotlib inline\n",
    "import requests\n",
    "from IPython.display import HTML\n",
    "import numpy as np\n",
    "import matplotlib.pyplot as plt"
   ]
  },
  {
   "cell_type": "code",
   "execution_count": 3,
   "metadata": {
    "collapsed": true,
    "hide_input": true,
    "scrolled": true
   },
   "outputs": [],
   "source": [
    "init_printing(use_unicode=True) # nice output"
   ]
  },
  {
   "cell_type": "code",
   "execution_count": 4,
   "metadata": {
    "collapsed": true,
    "scrolled": true
   },
   "outputs": [],
   "source": [
    "x = symbols('x')"
   ]
  },
  {
   "cell_type": "code",
   "execution_count": 5,
   "metadata": {
    "collapsed": true,
    "scrolled": true
   },
   "outputs": [],
   "source": [
    "n = symbols('n') # parameters"
   ]
  },
  {
   "cell_type": "markdown",
   "metadata": {},
   "source": [
    "## Konvergencia, divergencia kritériumok"
   ]
  },
  {
   "cell_type": "markdown",
   "metadata": {
    "solution2": "hidden",
    "solution2_first": true
   },
   "source": [
    "<div class=\"exercises\">\n",
    "1.) $\\displaystyle{\\sum_{n=1}^{\\infty}}\\frac{n^2}{\\left(2+\\frac{1}{n} \\right)^n}$\n",
    "</div>   "
   ]
  },
  {
   "cell_type": "code",
   "execution_count": 7,
   "metadata": {
    "hide_input": true,
    "scrolled": true,
    "solution2": "hidden"
   },
   "outputs": [
    {
     "data": {
      "image/png": "[encoded data removed]",
      "text/latex": [
       "$$\\frac{1}{2}$$"
      ],
      "text/plain": [
       "1/2"
      ]
     },
     "execution_count": 7,
     "metadata": {},
     "output_type": "execute_result"
    }
   ],
   "source": [
    "limit_seq((n**2/(2+1/n)**n)**(1/n))"
   ]
  },
  {
   "cell_type": "markdown",
   "metadata": {
    "collapsed": true,
    "solution2": "hidden",
    "solution2_first": true
   },
   "source": [
    "<div class=\"exercises\">\n",
    "2.) $\\displaystyle{\\sum_{n=1}^{\\infty}} \\frac{(n!)^2}{(2n)!}$\n",
    "</div>"
   ]
  },
  {
   "cell_type": "code",
   "execution_count": 12,
   "metadata": {
    "hide_input": true,
    "scrolled": true,
    "solution2": "hidden"
   },
   "outputs": [
    {
     "data": {
      "image/png": "[encoded data removed]",
      "text/latex": [
       "$$\\frac{1}{4}$$"
      ],
      "text/plain": [
       "1/4"
      ]
     },
     "execution_count": 12,
     "metadata": {},
     "output_type": "execute_result"
    }
   ],
   "source": [
    "limit_seq(((factorial(n+1))**2/factorial(2*n+2))/((factorial(n))**2/factorial(2*n)))"
   ]
  },
  {
   "cell_type": "markdown",
   "metadata": {
    "hide_input": true,
    "scrolled": true,
    "solution2": "hidden",
    "solution2_first": true
   },
   "source": [
    "<div class=\"exercises\">\n",
    "3.) $\\displaystyle{\\sum_{n=1}^{\\infty}} \\frac{1}{\\sqrt{(2n-1)(2n+1)}}$\n",
    "</div>"
   ]
  },
  {
   "cell_type": "markdown",
   "metadata": {
    "hide_input": false,
    "scrolled": true,
    "solution2": "hidden"
   },
   "source": [
    "<div class=\"solution\">\n",
    "\\[\n",
    "\\frac{1}{\\sqrt{(2n-1)(2n+1)}}\\geq \\frac{1}{2n}.\n",
    "\\]\n",
    "</div>"
   ]
  },
  {
   "cell_type": "markdown",
   "metadata": {
    "collapsed": true,
    "scrolled": true,
    "solution2": "hidden",
    "solution2_first": true
   },
   "source": [
    "<div class=\"exercises\">\n",
    "4.) $\\displaystyle{\\sum_{n=1}^{\\infty}} \\frac{2^n n!}{n^n}$\n",
    "</div>"
   ]
  },
  {
   "cell_type": "code",
   "execution_count": 13,
   "metadata": {
    "hide_input": true,
    "scrolled": false,
    "solution2": "hidden"
   },
   "outputs": [
    {
     "data": {
      "image/png": "[encoded data removed]",
      "text/latex": [
       "$$\\frac{2}{e}$$"
      ],
      "text/plain": [
       "   -1\n",
       "2⋅ℯ  "
      ]
     },
     "execution_count": 13,
     "metadata": {},
     "output_type": "execute_result"
    }
   ],
   "source": [
    "limit_seq( (2**(n+1)*factorial(n+1)/(n+1)**(n+1))/(2**n*factorial(n)/n**n) )"
   ]
  },
  {
   "cell_type": "markdown",
   "metadata": {
    "collapsed": true,
    "scrolled": true,
    "solution2": "hidden",
    "solution2_first": true
   },
   "source": [
    "<div class=\"exercises\">\n",
    "5.) $\\displaystyle{\\sum_{n=2}^{\\infty}} \\left(\\frac{n-1}{n+1}\\right)^{n(n-1)}$\n",
    "</div>"
   ]
  },
  {
   "cell_type": "code",
   "execution_count": 14,
   "metadata": {
    "hide_input": true,
    "scrolled": false,
    "solution2": "hidden"
   },
   "outputs": [
    {
     "data": {
      "image/png": "[encoded data removed]",
      "text/latex": [
       "$$e^{-2}$$"
      ],
      "text/plain": [
       " -2\n",
       "ℯ  "
      ]
     },
     "execution_count": 14,
     "metadata": {},
     "output_type": "execute_result"
    }
   ],
   "source": [
    "limit_seq( ((n-1)/(n+1))**(n-1) )"
   ]
  },
  {
   "cell_type": "markdown",
   "metadata": {
    "collapsed": true,
    "hide_input": false,
    "scrolled": true,
    "solution2": "hidden",
    "solution2_first": true
   },
   "source": [
    "<div class=\"exercises\">\n",
    "6.) $\\displaystyle{\\sum_{n=1}^{\\infty}} \\frac{n^5}{2^n+3^n}$\n",
    "</div>"
   ]
  },
  {
   "cell_type": "markdown",
   "metadata": {
    "hide_input": true,
    "scrolled": true,
    "solution2": "hidden"
   },
   "source": [
    "<div class=\"solution\">\n",
    "\\[\n",
    "\\frac{n^5}{2^n+3^n}\\leq \\frac{1}{n^2}\n",
    "\\]\n",
    "</div>"
   ]
  },
  {
   "cell_type": "markdown",
   "metadata": {
    "collapsed": true,
    "scrolled": true,
    "solution2": "hidden",
    "solution2_first": true
   },
   "source": [
    "<div class=\"exercises\">\n",
    "7.) $\\displaystyle{\\sum_{n=1}^{\\infty}} \\frac{n^{n+\\frac{1}{n}}}{\\left(n+\\frac{1}{n} \\right)^n}$\n",
    "</div>"
   ]
  },
  {
   "cell_type": "code",
   "execution_count": 16,
   "metadata": {
    "hide_input": true,
    "scrolled": false,
    "solution2": "hidden"
   },
   "outputs": [
    {
     "data": {
      "image/png": "[encoded data removed]",
      "text/latex": [
       "$$1$$"
      ],
      "text/plain": [
       "1"
      ]
     },
     "execution_count": 16,
     "metadata": {},
     "output_type": "execute_result"
    }
   ],
   "source": [
    "limit_seq( n**(n+1/n)/(n+1/n)**n )"
   ]
  },
  {
   "cell_type": "markdown",
   "metadata": {
    "solution2": "hidden"
   },
   "source": [
    "<div class=\"solution\">\n",
    "\\[\n",
    "\\frac{n^{n+\\frac{1}{n}}}{\\left(n+\\frac{1}{n} \\right)^n}\\geq \\frac{n^n}{(n+2)^n}\n",
    "\\]\n",
    "</div>"
   ]
  },
  {
   "cell_type": "code",
   "execution_count": 17,
   "metadata": {
    "hide_input": true,
    "solution2": "hidden"
   },
   "outputs": [
    {
     "data": {
      "image/png": "[encoded data removed]",
      "text/latex": [
       "$$e^{-2}$$"
      ],
      "text/plain": [
       " -2\n",
       "ℯ  "
      ]
     },
     "execution_count": 17,
     "metadata": {},
     "output_type": "execute_result"
    }
   ],
   "source": [
    "limit_seq(n**n/(n+2)**n)"
   ]
  },
  {
   "cell_type": "markdown",
   "metadata": {
    "solution2": "hidden",
    "solution2_first": true
   },
   "source": [
    "<div class=\"exercises\">\n",
    "8.) $\\displaystyle{\\sum_{n=1}^{\\infty}} \\frac{(n!)^2}{2^{n^2}}$\n",
    "</div>"
   ]
  },
  {
   "cell_type": "code",
   "execution_count": 20,
   "metadata": {
    "hide_input": true,
    "scrolled": false,
    "solution2": "hidden"
   },
   "outputs": [
    {
     "data": {
      "image/png": "[encoded data removed]",
      "text/latex": [
       "$$0$$"
      ],
      "text/plain": [
       "0"
      ]
     },
     "execution_count": 20,
     "metadata": {},
     "output_type": "execute_result"
    }
   ],
   "source": [
    "limit_seq( (factorial(n+1))**2/(2**((n+1)**2))/(factorial(n))**2/(2**(n**2)))"
   ]
  },
  {
   "cell_type": "markdown",
   "metadata": {
    "solution2": "hidden",
    "solution2_first": true
   },
   "source": [
    "<div class=\"exercises\">\n",
    "9.) $\\displaystyle{\\sum_{n=1}^{\\infty}} n^2 e^{-\\sqrt{n}} $\n",
    "</div>"
   ]
  },
  {
   "cell_type": "markdown",
   "metadata": {
    "hide_input": false,
    "solution2": "hidden"
   },
   "source": [
    "<div class=\"solution\">\n",
    "\\[\n",
    "n^2 e^{-\\sqrt{n}}\\leq\\frac{1}{n^2}\n",
    "\\]\n",
    "</div>"
   ]
  },
  {
   "cell_type": "markdown",
   "metadata": {
    "solution2": "hidden",
    "solution2_first": true
   },
   "source": [
    "<div class=\"exercises\">\n",
    "10.) $\\displaystyle{\\sum_{n=1}^{\\infty}} \\frac{\\sqrt{n+2}-\\sqrt{n-2}}{n} $\n",
    "</div>"
   ]
  },
  {
   "cell_type": "markdown",
   "metadata": {
    "solution2": "hidden"
   },
   "source": [
    "<div class=\"solution\">\n",
    "\\[\n",
    "\\frac{\\sqrt{n+2}-\\sqrt{n-2}}{n}=\\frac{4}{n(\\sqrt{n+2}+\\sqrt{n-2})}\\leq\\frac{4}{n^{3/2}}\n",
    "\\]\n",
    "</div>"
   ]
  },
  {
   "cell_type": "markdown",
   "metadata": {},
   "source": [
    "# Függvénysorozatok, függvénysorok"
   ]
  },
  {
   "cell_type": "markdown",
   "metadata": {},
   "source": [
    "## Hatványsorok"
   ]
  },
  {
   "cell_type": "markdown",
   "metadata": {
    "collapsed": true,
    "scrolled": true,
    "solution2": "hidden",
    "solution2_first": true
   },
   "source": [
    "<div class=\"exercises\">\n",
    "<p>Konvergenciasugár?</p>\n",
    "<p>1.) $\\displaystyle{\\sum_{n=1}^{\\infty}}\\left(1+\\frac{1}{n} \\right)^{n^2}x^n.$</p>\n",
    "</div>"
   ]
  },
  {
   "cell_type": "code",
   "execution_count": 5,
   "metadata": {
    "hide_input": true,
    "solution2": "hidden"
   },
   "outputs": [
    {
     "data": {
      "image/png": "[encoded data removed]",
      "text/latex": [
       "$$e$$"
      ],
      "text/plain": [
       "ℯ"
      ]
     },
     "execution_count": 5,
     "metadata": {},
     "output_type": "execute_result"
    }
   ],
   "source": [
    "limit_seq((1+1/n)**n, n)"
   ]
  },
  {
   "cell_type": "code",
   "execution_count": 6,
   "metadata": {
    "hide_input": true
   },
   "outputs": [
    {
     "data": {
      "image/png": "[encoded data removed]",
      "text/latex": [
       "$$-\\infty$$"
      ],
      "text/plain": [
       "-∞"
      ]
     },
     "execution_count": 6,
     "metadata": {},
     "output_type": "execute_result"
    }
   ],
   "source": [
    "limit_seq(ln(n)*(n*( ((1+1/n)**(n**2))/((1+1/(n+1))**((n+1)**2)) -1) -1) ,n)"
   ]
  },
  {
   "cell_type": "markdown",
   "metadata": {},
   "source": [
    "<div class=\"solution\">\n",
    "KT=$\\left(-\\frac{1}{e}, \\frac{1}{e} \\right)$.\n",
    "</div>"
   ]
  },
  {
   "cell_type": "markdown",
   "metadata": {
    "collapsed": true,
    "scrolled": true,
    "solution2": "hidden",
    "solution2_first": true
   },
   "source": [
    "<div class=\"exercises\">\n",
    "<p>Konvergencia tartomány?</p>\n",
    "<p>2.) $\\displaystyle{\\sum_{n=1}^{\\infty}} n!x^n.$</p>\n",
    "</div>"
   ]
  },
  {
   "cell_type": "code",
   "execution_count": 6,
   "metadata": {
    "hide_input": true,
    "scrolled": true,
    "solution2": "hidden"
   },
   "outputs": [
    {
     "data": {
      "image/png": "[encoded data removed]",
      "text/latex": [
       "$$\\infty$$"
      ],
      "text/plain": [
       "∞"
      ]
     },
     "execution_count": 6,
     "metadata": {},
     "output_type": "execute_result"
    }
   ],
   "source": [
    "limit_seq(factorial(n+1)/factorial(n), n)"
   ]
  },
  {
   "cell_type": "markdown",
   "metadata": {
    "solution2": "hidden"
   },
   "source": [
    "<div class=\"solution\">\n",
    "KT=$\\{0\\}$.\n",
    "</div>"
   ]
  },
  {
   "cell_type": "markdown",
   "metadata": {
    "collapsed": true,
    "scrolled": true,
    "solution2": "hidden",
    "solution2_first": true
   },
   "source": [
    "<div class=\"exercises\">\n",
    "<p>Konvergencia tartomány?</p>\n",
    "<p>3.) $\\displaystyle{\\sum_{n=1}^{\\infty}} \\frac{1}{n(n+2)}x^n.$</p>\n",
    "</div>"
   ]
  },
  {
   "cell_type": "code",
   "execution_count": 7,
   "metadata": {
    "hide_input": false,
    "scrolled": false,
    "solution2": "hidden"
   },
   "outputs": [
    {
     "data": {
      "image/png": "[encoded data removed]",
      "text/latex": [
       "$$1$$"
      ],
      "text/plain": [
       "1"
      ]
     },
     "execution_count": 7,
     "metadata": {},
     "output_type": "execute_result"
    }
   ],
   "source": [
    "limit_seq((n*(n+2))**(1/n), n)"
   ]
  },
  {
   "cell_type": "markdown",
   "metadata": {
    "solution2": "hidden"
   },
   "source": [
    "<div class=\"solution\">\n",
    "KT=$[-1,1]$.\n",
    "</div>"
   ]
  },
  {
   "cell_type": "markdown",
   "metadata": {
    "collapsed": true,
    "scrolled": true,
    "solution2": "hidden",
    "solution2_first": true
   },
   "source": [
    "<div class=\"exercises\">\n",
    "<p>Konvergencia tartomány?</p>\n",
    "<p>4.) $\\displaystyle{\\sum_{n=1}^{\\infty}} \\frac{(-1)^{n-1}}{n}x^n$.</p>\n",
    "</div>"
   ]
  },
  {
   "cell_type": "code",
   "execution_count": 8,
   "metadata": {
    "hide_input": true,
    "solution2": "hidden"
   },
   "outputs": [
    {
     "data": {
      "image/png": "[encoded data removed]",
      "text/latex": [
       "$$1$$"
      ],
      "text/plain": [
       "1"
      ]
     },
     "execution_count": 8,
     "metadata": {},
     "output_type": "execute_result"
    }
   ],
   "source": [
    "limit_seq(n**(1/n), n)"
   ]
  },
  {
   "cell_type": "markdown",
   "metadata": {
    "solution2": "hidden"
   },
   "source": [
    "<div class=\"solution\">\n",
    "KT=$(-1, 1]$.\n",
    "</div>"
   ]
  },
  {
   "cell_type": "markdown",
   "metadata": {
    "collapsed": true,
    "scrolled": true,
    "solution2": "hidden",
    "solution2_first": true
   },
   "source": [
    "<div class=\"exercises\">\n",
    "<p>Konvergencia tartomány?</p>\n",
    "<p>5.) $\\displaystyle{\\sum_{n=1}^{\\infty}} \\frac{\\ln(n)}{n}x^n$.</p>\n",
    "</div>"
   ]
  },
  {
   "cell_type": "code",
   "execution_count": 9,
   "metadata": {
    "hide_input": true,
    "scrolled": false,
    "solution2": "hidden"
   },
   "outputs": [
    {
     "data": {
      "image/png": "[encoded data removed]",
      "text/latex": [
       "$$1$$"
      ],
      "text/plain": [
       "1"
      ]
     },
     "execution_count": 9,
     "metadata": {},
     "output_type": "execute_result"
    }
   ],
   "source": [
    "limit_seq((log(n)/n)**(1/n), n)"
   ]
  },
  {
   "cell_type": "markdown",
   "metadata": {
    "solution2": "hidden"
   },
   "source": [
    "<div class=\"solution\">\n",
    "KT=$[-1, 1)$.\n",
    "</div>"
   ]
  },
  {
   "cell_type": "markdown",
   "metadata": {
    "collapsed": true,
    "scrolled": true,
    "solution2": "hidden",
    "solution2_first": true
   },
   "source": [
    "<div class=\"exercises\">\n",
    "<p>Taylor sor $0$ körül?</p>\n",
    "<p>6.) $\\sin^2(x)$</p>\n",
    "</div>"
   ]
  },
  {
   "cell_type": "markdown",
   "metadata": {
    "hide_input": false,
    "scrolled": true,
    "solution2": "hidden"
   },
   "source": [
    "<div class=\"solution\">\n",
    "<p>$\\sin^2(x)=\\frac{1-\\cos(2x)}{2}$,</p>\n",
    "<p>$\\cos(2x)=\\displaystyle{\\sum_{n=0}^{\\infty}} (-1)^n\\frac{(2x)^{2n}}{(2n)!}$.</p>\n",
    "</div>"
   ]
  },
  {
   "cell_type": "markdown",
   "metadata": {
    "collapsed": true,
    "scrolled": true,
    "solution2": "hidden",
    "solution2_first": true
   },
   "source": [
    "<div class=\"exercises\">\n",
    "<p>Taylor sor 0 körül?</p>\n",
    "<p>7.) $ \\ln\\left(\\frac{1+x}{1-x} \\right)$.</p>\n",
    "</div>"
   ]
  },
  {
   "cell_type": "markdown",
   "metadata": {
    "hide_input": false,
    "scrolled": true,
    "solution2": "hidden"
   },
   "source": [
    "<div class=\"solution\">\n",
    "<p>$\\ln\\left(\\frac{1+x}{1-x}\\right)=\\ln(1+x)-\\ln(1-x)$.</p>\n",
    "<p>$\\ln(1-x)=-x-\\frac{x^2}{2}-\\ldots-\\frac{x^n}{n}-\\ldots$,</p>\n",
    "<p>$\\ln(1+x)=x-\\frac{x^2}{2}+\\ldots+(-1)^{n-1}\\frac{x^n}{n}+\\ldots$,</p>\n",
    "<p>$\\ln\\left(\\frac{1+x}{1-x}\\right)=2\\left(x+\\ldots+\\frac{x^{2n+1}}{2n+1}+\\ldots \\right)$.</p>\n",
    "</div>"
   ]
  },
  {
   "cell_type": "markdown",
   "metadata": {
    "collapsed": true,
    "scrolled": true,
    "solution2": "hidden",
    "solution2_first": true
   },
   "source": [
    "<div class=\"exercises\">\n",
    "<p>Taylor sor 0 körül?</p>\n",
    "<p>8.) $\\frac{1}{x^2-5x+6}$.</p>\n",
    "</div>"
   ]
  },
  {
   "cell_type": "code",
   "execution_count": 13,
   "metadata": {
    "hide_input": true,
    "scrolled": false,
    "solution2": "hidden"
   },
   "outputs": [
    {
     "data": {
      "image/png": "[encoded data removed]",
      "text/latex": [
       "$$- \\frac{1}{x - 2} + \\frac{1}{x - 3}$$"
      ],
      "text/plain": [
       "    1       1  \n",
       "- ───── + ─────\n",
       "  x - 2   x - 3"
      ]
     },
     "execution_count": 13,
     "metadata": {},
     "output_type": "execute_result"
    }
   ],
   "source": [
    "apart(1/(x**2-5*x+6))"
   ]
  },
  {
   "cell_type": "markdown",
   "metadata": {
    "solution2": "hidden"
   },
   "source": [
    "<div class=\"solution\">\n",
    "<span class=\"newline\">$-\\frac{1}{x-2}=\\frac{1}{2-x}=\\frac{1}{2}\\frac{1}{1-\\frac{x}{2}}$,</span>\n",
    "<span class=\"newline\">$\\frac{1}{x-3}=-\\frac{1}{3-x}=-\\frac{1}{3}\\frac{1}{1-\\frac{x}{3}}$.</span>\n",
    "</div>"
   ]
  },
  {
   "cell_type": "markdown",
   "metadata": {
    "collapsed": true,
    "scrolled": true,
    "solution2": "hidden",
    "solution2_first": true
   },
   "source": [
    "<div class=\"exercises\">\n",
    "9.) Legyen $g(x):=e^{x^3}$. $g^{(51)}(0)=?$\n",
    "</div>"
   ]
  },
  {
   "cell_type": "markdown",
   "metadata": {
    "hide_input": false,
    "scrolled": false,
    "solution2": "hidden"
   },
   "source": [
    "<div class=\"solution\">\n",
    "<p>$g(x)=\\displaystyle{\\sum_{n=0}^{\\infty}}\\frac{x^{3n}}{n!}.$</p>\n",
    "<p>$\\frac{g^{(51)}(0)}{51!}=a_{51}$. </p>\n",
    "<p>$a_{51}=\\frac{1}{17!}$. </p>\n",
    "<p>$g^{(51)}(0)=\\frac{51!}{17!}$.</p>\n",
    "</div>"
   ]
  },
  {
   "cell_type": "markdown",
   "metadata": {
    "solution2": "hidden",
    "solution2_first": true
   },
   "source": [
    "<div class=\"exercises\">\n",
    "10.) Írjuk fel az $f(x):=\\frac{1}{x}$ függvény Taylor sorát az $x_0:=1$ pont körül.\n",
    "</div>"
   ]
  },
  {
   "cell_type": "markdown",
   "metadata": {
    "hide_input": false,
    "solution2": "hidden"
   },
   "source": [
    "<div class=\"solution\">\n",
    "$\\frac{1}{x}=\\frac{1}{1+(x-1)}=\\displaystyle{\\sum_{n=0}^{\\infty}} (-1)^n(x-1)^n$.\n",
    "</div>"
   ]
  },
  {
   "cell_type": "code",
   "execution_count": 6,
   "metadata": {
    "hide_input": false,
    "scrolled": false
   },
   "outputs": [
    {
     "data": {
      "text/html": [
       "<style>\n",
       ".output_subarea {\n",
       "    background-color: cornsilk;\n",
       "    border: 1px solid forestgreen;\n",
       "    font-style:bold;\n",
       "}\n",
       "\n",
       "div.exercises {\n",
       "    text-align: left; \n",
       "    font-family: 'Times New Roman'; \n",
       "    font-size:1.5em; \n",
       "    font-style:bold;\n",
       "    border: 1px solid red;\n",
       "    padding: 7px 3px 7px 8px;\n",
       "    background-color: whitesmoke;\n",
       "}\n",
       "\n",
       "div.solution {\n",
       "    font-size: 125%;\n",
       "    background-color: cornsilk;\n",
       "    border: 1px solid forestgreen;\n",
       "    font-style:bold;\n",
       "}\n",
       "\n",
       "ol {    \n",
       "    padding: 15px;\n",
       "}\n",
       "\n",
       "ol li {\n",
       "    padding: 5px;\n",
       "    margin-left: 25px;\n",
       "}\n",
       "\n",
       "ol ol li { \n",
       "    list-style-type: lower-alpha;\n",
       "}\n",
       "\n",
       ".myp {\n",
       "    font-family: 'Times New Roman'; \n",
       "    font-size:1.4em; \n",
       "    font-style:bold;\n",
       "    border: 1px solid black;\n",
       "    padding: 5px 3px 5px 5px;\n",
       "}\n",
       "<style>"
      ],
      "text/plain": [
       "<IPython.core.display.HTML object>"
      ]
     },
     "metadata": {},
     "output_type": "display_data"
    }
   ],
   "source": [
    "%%html\n",
    "<style>\n",
    ".output_subarea {\n",
    "    background-color: cornsilk;\n",
    "    border: 1px solid forestgreen;\n",
    "    font-style:bold;\n",
    "}\n",
    "\n",
    "div.exercises {\n",
    "    text-align: left; \n",
    "    font-family: 'Times New Roman'; \n",
    "    font-size:1.5em; \n",
    "    font-style:bold;\n",
    "    border: 1px solid red;\n",
    "    padding: 7px 3px 7px 8px;\n",
    "    background-color: whitesmoke;\n",
    "}\n",
    "\n",
    "div.solution {\n",
    "    font-size: 125%;\n",
    "    background-color: cornsilk;\n",
    "    border: 1px solid forestgreen;\n",
    "    font-style:bold;\n",
    "}\n",
    "\n",
    "ol {    \n",
    "    padding: 15px;\n",
    "}\n",
    "\n",
    "ol li {\n",
    "    padding: 5px;\n",
    "    margin-left: 25px;\n",
    "}\n",
    "\n",
    "ol ol li { \n",
    "    list-style-type: lower-alpha;\n",
    "}\n",
    "\n",
    ".myp {\n",
    "    font-family: 'Times New Roman'; \n",
    "    font-size:1.4em; \n",
    "    font-style:bold;\n",
    "    border: 1px solid black;\n",
    "    padding: 5px 3px 5px 5px;\n",
    "}\n",
    "<style>"
   ]
  },
  {
   "cell_type": "code",
   "execution_count": 10,
   "metadata": {},
   "outputs": [
    {
     "data": {
      "text/html": [
       "<script src=\"https://cdn.rawgit.com/parente/4c3e6936d0d7a46fd071/raw/65b816fb9bdd3c28b4ddf3af602bfd6015486383/code_toggle.js\"></script>"
      ],
      "text/plain": [
       "<IPython.core.display.HTML object>"
      ]
     },
     "metadata": {},
     "output_type": "display_data"
    }
   ],
   "source": [
    "%%html\n",
    "<script src=\"https://cdn.rawgit.com/parente/4c3e6936d0d7a46fd071/raw/65b816fb9bdd3c28b4ddf3af602bfd6015486383/code_toggle.js\"></script>"
   ]
  }
 ],
 "metadata": {
  "hide_input": false,
  "kernelspec": {
   "display_name": "Python 3",
   "language": "python",
   "name": "python3"
  },
  "language_info": {
   "codemirror_mode": {
    "name": "ipython",
    "version": 3
   },
   "file_extension": ".py",
   "mimetype": "text/x-python",
   "name": "python",
   "nbconvert_exporter": "python",
   "pygments_lexer": "ipython3",
   "version": "3.6.1"
  },
  "latex_envs": {
   "LaTeX_envs_menu_present": true,
   "autocomplete": true,
   "bibliofile": "biblio.bib",
   "cite_by": "apalike",
   "current_citInitial": 1,
   "eqLabelWithNumbers": true,
   "eqNumInitial": 1,
   "hotkeys": {
    "equation": "Ctrl-E",
    "itemize": "Ctrl-I"
   },
   "labels_anchors": false,
   "latex_user_defs": false,
   "report_style_numbering": false,
   "user_envs_cfg": false
  },
  "toc": {
   "colors": {
    "hover_highlight": "#DAA520",
    "navigate_num": "#0000ff",
    "navigate_text": "#0000ff",
    "running_highlight": "#FF0000",
    "selected_highlight": "#FFD700",
    "sidebar_border": "#EEEEEE",
    "wrapper_background": "#FFFFFF"
   },
   "moveMenuLeft": true,
   "nav_menu": {
    "height": "101px",
    "width": "252px"
   },
   "navigate_menu": true,
   "number_sections": true,
   "sideBar": false,
   "threshold": 4,
   "toc_cell": true,
   "toc_position": {
    "height": "235px",
    "left": "1px",
    "right": "1162.34px",
    "top": "138px",
    "width": "154px"
   },
   "toc_section_display": "block",
   "toc_window_display": false,
   "widenNotebook": false
  }
 },
 "nbformat": 4,
 "nbformat_minor": 2
}
